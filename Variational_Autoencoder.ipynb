{
 "cells": [
  {
   "cell_type": "markdown",
   "metadata": {},
   "source": [
    "# Variational Auto-encoder (PyTorch)\n",
    "Create a generative model for MNIST images.\n",
    "<br>Reference Link: [Variational Autoencoders Explained](http://kvfrans.com/variational-autoencoders-explained/)"
   ]
  },
  {
   "cell_type": "code",
   "execution_count": 1,
   "metadata": {},
   "outputs": [],
   "source": [
    "import torch\n",
    "from torch.autograd import Variable\n",
    "import numpy as np\n",
    "import torch.nn.functional as F\n",
    "import torchvision\n",
    "from torchvision import transforms\n",
    "import torch.optim as optim\n",
    "from torch import nn\n",
    "import matplotlib.pyplot as plt\n",
    "\n",
    "%matplotlib inline"
   ]
  },
  {
   "cell_type": "code",
   "execution_count": 2,
   "metadata": {},
   "outputs": [],
   "source": [
    "class Normal(object):\n",
    "    def __init__(self, mu, sigma, log_sigma, v=None, r=None):\n",
    "        self.mu = mu\n",
    "        self.sigma = sigma  # either stdev diagonal itself, or stdev diagonal from decomposition\n",
    "        self.logsigma = log_sigma\n",
    "        dim = mu.get_shape()\n",
    "        if v is None:\n",
    "            v = torch.FloatTensor(*dim)\n",
    "        if r is None:\n",
    "            r = torch.FloatTensor(*dim)\n",
    "        self.v = v\n",
    "        self.r = r"
   ]
  },
  {
   "cell_type": "code",
   "execution_count": 3,
   "metadata": {},
   "outputs": [],
   "source": [
    "class Encoder(torch.nn.Module):\n",
    "    def __init__(self, D_in, H, D_out):\n",
    "        super(Encoder, self).__init__()\n",
    "        self.linear1 = torch.nn.Linear(D_in, H)\n",
    "        self.linear2 = torch.nn.Linear(H, D_out)\n",
    "\n",
    "    def forward(self, x):\n",
    "        x = F.relu(self.linear1(x))\n",
    "        return F.relu(self.linear2(x))"
   ]
  },
  {
   "cell_type": "code",
   "execution_count": 4,
   "metadata": {},
   "outputs": [],
   "source": [
    "class Decoder(torch.nn.Module):\n",
    "    def __init__(self, D_in, H, D_out):\n",
    "        super(Decoder, self).__init__()\n",
    "        self.linear1 = torch.nn.Linear(D_in, H)\n",
    "        self.linear2 = torch.nn.Linear(H, D_out)\n",
    "\n",
    "    def forward(self, x):\n",
    "        x = F.relu(self.linear1(x))\n",
    "        return F.relu(self.linear2(x))"
   ]
  },
  {
   "cell_type": "markdown",
   "metadata": {},
   "source": [
    "![Deconvolution](http://kvfrans.com/content/images/2016/08/dat.jpg)\n",
    "![Autoencode](http://kvfrans.com/content/images/2016/08/autoenc.jpg)"
   ]
  },
  {
   "cell_type": "code",
   "execution_count": 5,
   "metadata": {},
   "outputs": [],
   "source": [
    "class VAE(torch.nn.Module):\n",
    "    latent_dim = 8\n",
    "\n",
    "    def __init__(self, encoder, decoder):\n",
    "        super(VAE, self).__init__()\n",
    "        self.encoder = encoder\n",
    "        self.decoder = decoder\n",
    "        self._enc_mu = torch.nn.Linear(100, 8)\n",
    "        self._enc_log_sigma = torch.nn.Linear(100, 8)\n",
    "\n",
    "    def _sample_latent(self, h_enc):\n",
    "        \"\"\"\n",
    "        Return the latent normal sample z ~ N(mu, sigma^2)\n",
    "        \"\"\"\n",
    "        mu = self._enc_mu(h_enc)\n",
    "        log_sigma = self._enc_log_sigma(h_enc)\n",
    "        sigma = torch.exp(log_sigma)\n",
    "        std_z = torch.from_numpy(np.random.normal(0, 1, size=sigma.size())).float()\n",
    "\n",
    "        self.z_mean = mu\n",
    "        self.z_sigma = sigma\n",
    "\n",
    "        return mu + sigma * Variable(std_z, requires_grad=False)  # Reparameterization trick\n",
    "\n",
    "    def forward(self, state):\n",
    "        h_enc = self.encoder(state)\n",
    "        z = self._sample_latent(h_enc)\n",
    "        return self.decoder(z)"
   ]
  },
  {
   "cell_type": "markdown",
   "metadata": {},
   "source": [
    "Variational Autoencoder(VAE)는 두가지 요소에 대한 정확도를 학습합니다.\n",
    "- 이미지를 얼마나 정확하게 Generate했는가\n",
    "- Latent variable이 unit gaussian에 얼마나 근접했는가\n",
    "    - 이를 측정하기 위해 KL-divergence를 사용합니다\n",
    "    - 여기서는 실제 값의 모든 vector를 사용하는 대신 평균(mean)과 분포(standard deviation) vector만을 사용합니다.\n",
    "\n",
    "위 두 요소 사이에는 trade-off가 있습니다.\n",
    "\n",
    "```code\n",
    "generation_loss = mean(square(generated_image - real_image))  \n",
    "latent_loss = KL-Divergence(latent_variable, unit_gaussian)  \n",
    "loss = generation_loss + latent_loss\n",
    "```\n",
    "\n",
    "그림으로 나타내면 아래와 같습니다.\n",
    "![VAE](http://kvfrans.com/content/images/2016/08/vae.jpg)"
   ]
  },
  {
   "cell_type": "code",
   "execution_count": 6,
   "metadata": {},
   "outputs": [],
   "source": [
    "def latent_loss(z_mean, z_stddev):\n",
    "    mean_sq = z_mean * z_mean\n",
    "    stddev_sq = z_stddev * z_stddev\n",
    "    return 0.5 * torch.mean(mean_sq + stddev_sq - torch.log(stddev_sq) - 1)"
   ]
  },
  {
   "cell_type": "code",
   "execution_count": 7,
   "metadata": {},
   "outputs": [
    {
     "name": "stdout",
     "output_type": "stream",
     "text": [
      "Number of samples:  60000\n"
     ]
    }
   ],
   "source": [
    "input_dim = 28 * 28\n",
    "batch_size = 32\n",
    "\n",
    "transform = transforms.Compose(\n",
    "    [transforms.ToTensor()])\n",
    "mnist = torchvision.datasets.MNIST('./', download=True, transform=transform)\n",
    "\n",
    "dataloader = torch.utils.data.DataLoader(mnist, batch_size=batch_size,\n",
    "                                         shuffle=True, num_workers=2)\n",
    "\n",
    "print('Number of samples: ', len(mnist))\n",
    "\n",
    "encoder = Encoder(input_dim, 100, 100)\n",
    "decoder = Decoder(8, 100, input_dim)\n",
    "vae = VAE(encoder, decoder)\n",
    "\n",
    "criterion = nn.MSELoss()\n",
    "\n",
    "optimizer = optim.Adam(vae.parameters(), lr=0.0001)\n",
    "l = None"
   ]
  },
  {
   "cell_type": "code",
   "execution_count": 8,
   "metadata": {},
   "outputs": [
    {
     "name": "stdout",
     "output_type": "stream",
     "text": [
      "0 0.0663687139749527\n",
      "1 0.0690300241112709\n",
      "2 0.06314890831708908\n",
      "3 0.0687660351395607\n",
      "4 0.0712401419878006\n",
      "5 0.06650761514902115\n",
      "6 0.06941360235214233\n",
      "7 0.06615210324525833\n",
      "8 0.0631953626871109\n",
      "9 0.06980690360069275\n",
      "10 0.06972867250442505\n",
      "11 0.0643949955701828\n",
      "12 0.062161222100257874\n",
      "13 0.06403818726539612\n",
      "14 0.06886661797761917\n",
      "15 0.06459414958953857\n",
      "16 0.0682990700006485\n",
      "17 0.0761084035038948\n",
      "18 0.06664256006479263\n",
      "19 0.06773415952920914\n",
      "20 0.06767349690198898\n",
      "21 0.06547828018665314\n",
      "22 0.06525144726037979\n",
      "23 0.06317349523305893\n",
      "24 0.06219231337308884\n",
      "25 0.06615196168422699\n",
      "26 0.07227176427841187\n",
      "27 0.062339406460523605\n",
      "28 0.07176733016967773\n",
      "29 0.06655406206846237\n",
      "30 0.06663045287132263\n",
      "31 0.06796737015247345\n",
      "32 0.06757582724094391\n",
      "33 0.0661088228225708\n",
      "34 0.06294684112071991\n",
      "35 0.0647888258099556\n",
      "36 0.06897665560245514\n",
      "37 0.06624607741832733\n",
      "38 0.07474660128355026\n",
      "39 0.06834234297275543\n",
      "40 0.06798367947340012\n",
      "41 0.0684843510389328\n",
      "42 0.06374235451221466\n",
      "43 0.06740977615118027\n",
      "44 0.06908732652664185\n",
      "45 0.06817267835140228\n",
      "46 0.06759408861398697\n",
      "47 0.06487336754798889\n",
      "48 0.06865627318620682\n",
      "49 0.06600907444953918\n",
      "50 0.0643758699297905\n",
      "51 0.06593643873929977\n",
      "52 0.07100658118724823\n",
      "53 0.06551233679056168\n",
      "54 0.07120410352945328\n",
      "55 0.06625615060329437\n",
      "56 0.06784781068563461\n",
      "57 0.07280618697404861\n",
      "58 0.06971339136362076\n",
      "59 0.06968003511428833\n",
      "60 0.06788551062345505\n",
      "61 0.06271463632583618\n",
      "62 0.0637848973274231\n",
      "63 0.0701085776090622\n",
      "64 0.06113574281334877\n",
      "65 0.06857242435216904\n",
      "66 0.0661662220954895\n",
      "67 0.06648129969835281\n",
      "68 0.06636551767587662\n",
      "69 0.07208956778049469\n",
      "70 0.06233492121100426\n",
      "71 0.06484011560678482\n",
      "72 0.07067351043224335\n",
      "73 0.06847511976957321\n",
      "74 0.07313652336597443\n",
      "75 0.07334029674530029\n",
      "76 0.06744498014450073\n",
      "77 0.06952521950006485\n",
      "78 0.06705449521541595\n",
      "79 0.06767024844884872\n",
      "80 0.0712704136967659\n",
      "81 0.06616368889808655\n",
      "82 0.06560409814119339\n",
      "83 0.0722389668226242\n",
      "84 0.06921027600765228\n",
      "85 0.07574520260095596\n",
      "86 0.06609088182449341\n",
      "87 0.07206396013498306\n",
      "88 0.06750921905040741\n",
      "89 0.07132874429225922\n",
      "90 0.06359227001667023\n",
      "91 0.06754565238952637\n",
      "92 0.06757312268018723\n",
      "93 0.062128946185112\n",
      "94 0.06499120593070984\n",
      "95 0.07287224382162094\n",
      "96 0.06568360328674316\n",
      "97 0.07179038971662521\n",
      "98 0.06923212856054306\n",
      "99 0.07000159472227097\n"
     ]
    }
   ],
   "source": [
    "for epoch in range(100):\n",
    "    for i, data in enumerate(dataloader, 0):\n",
    "        inputs, classes = data\n",
    "        inputs, classes = Variable(inputs.resize_(batch_size, input_dim)), Variable(classes)\n",
    "        optimizer.zero_grad()\n",
    "        dec = vae(inputs)\n",
    "        ll = latent_loss(vae.z_mean, vae.z_sigma)\n",
    "        loss = criterion(dec, inputs) + ll\n",
    "        loss.backward()\n",
    "        optimizer.step()\n",
    "        l = loss.item()    # loss.data[0] will produce warning in PyTorch 0.4\n",
    "    print(epoch, l)"
   ]
  },
  {
   "cell_type": "code",
   "execution_count": 10,
   "metadata": {},
   "outputs": [
    {
     "data": {
      "image/png": "[encoded data removed]",
      "text/plain": [
       "<Figure size 432x288 with 1 Axes>"
      ]
     },
     "metadata": {},
     "output_type": "display_data"
    }
   ],
   "source": [
    "plt.imshow(vae(inputs).data[0].numpy().reshape(28, 28), cmap='gray')\n",
    "plt.show(block=True)"
   ]
  },
  {
   "cell_type": "code",
   "execution_count": null,
   "metadata": {},
   "outputs": [],
   "source": []
  }
 ],
 "metadata": {
  "kernelspec": {
   "display_name": "Python 3",
   "language": "python",
   "name": "python3"
  },
  "language_info": {
   "codemirror_mode": {
    "name": "ipython",
    "version": 3
   },
   "file_extension": ".py",
   "mimetype": "text/x-python",
   "name": "python",
   "nbconvert_exporter": "python",
   "pygments_lexer": "ipython3",
   "version": "3.6.5"
  }
 },
 "nbformat": 4,
 "nbformat_minor": 2
}
